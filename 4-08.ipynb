{
 "metadata": {
  "language_info": {
   "codemirror_mode": {
    "name": "ipython",
    "version": 3
   },
   "file_extension": ".py",
   "mimetype": "text/x-python",
   "name": "python",
   "nbconvert_exporter": "python",
   "pygments_lexer": "ipython3",
   "version": "3.8.2-final"
  },
  "orig_nbformat": 2,
  "kernelspec": {
   "name": "python_defaultSpec_1597495915779",
   "display_name": "Python 3.8.2 32-bit"
  }
 },
 "nbformat": 4,
 "nbformat_minor": 2,
 "cells": [
  {
   "cell_type": "code",
   "execution_count": 6,
   "metadata": {},
   "outputs": [],
   "source": [
    "def show_how_it_works(func):\n",
    "    def my_function(*args, **kwargs):\n",
    "        print('Running function:', func.__name__)\n",
    "        print('Positionl arguments:', args)\n",
    "        print('Keyword arguments:', kwargs)\n",
    "        result = func(*args, **kwargs)\n",
    "        print('Result:', result)\n",
    "        return result\n",
    "    return my_function"
   ]
  },
  {
   "cell_type": "code",
   "execution_count": 3,
   "metadata": {},
   "outputs": [
    {
     "output_type": "execute_result",
     "data": {
      "text/plain": "9"
     },
     "metadata": {},
     "execution_count": 3
    }
   ],
   "source": [
    "def add_two_numbers(a, b):\n",
    "    return a + b\n",
    "\n",
    "add_two_numbers(1, 8)"
   ]
  },
  {
   "cell_type": "code",
   "execution_count": 7,
   "metadata": {
    "tags": []
   },
   "outputs": [
    {
     "output_type": "stream",
     "name": "stdout",
     "text": "Running function: add_two_numbers\nPositionl arguments: (1, 8)\nKeyword arguments: {}\nResult: 9\n"
    },
    {
     "output_type": "execute_result",
     "data": {
      "text/plain": "9"
     },
     "metadata": {},
     "execution_count": 7
    }
   ],
   "source": [
    "decolated_func = show_how_it_works(add_two_numbers)\n",
    "decolated_func(1, 8)"
   ]
  },
  {
   "cell_type": "code",
   "execution_count": 9,
   "metadata": {
    "tags": []
   },
   "outputs": [
    {
     "output_type": "stream",
     "name": "stdout",
     "text": "Running function: add_two_numbers\nPositionl arguments: (1, 8)\nKeyword arguments: {}\nResult: 9\n"
    },
    {
     "output_type": "execute_result",
     "data": {
      "text/plain": "9"
     },
     "metadata": {},
     "execution_count": 9
    }
   ],
   "source": [
    "add_two_numbers = decolated_func\n",
    "add_two_numbers(1, 8)"
   ]
  },
  {
   "cell_type": "code",
   "execution_count": 11,
   "metadata": {
    "tags": []
   },
   "outputs": [
    {
     "output_type": "stream",
     "name": "stdout",
     "text": "Running function: add_two_numbers\nPositionl arguments: (1, 8)\nKeyword arguments: {}\nResult: 9\n"
    },
    {
     "output_type": "execute_result",
     "data": {
      "text/plain": "9"
     },
     "metadata": {},
     "execution_count": 11
    }
   ],
   "source": [
    "@show_how_it_works\n",
    "def add_two_numbers(a, b):\n",
    "    return a + b\n",
    "\n",
    "add_two_numbers(1, 8)"
   ]
  },
  {
   "cell_type": "code",
   "execution_count": 12,
   "metadata": {},
   "outputs": [],
   "source": [
    "def show_begin_end(func):\n",
    "    '''呼ばれた関数の始めと終わりを表示するデコータ'''\n",
    "    def deco_func(*args, **kwargs):\n",
    "        '''関数を実行する前と後にメッセージを表示'''\n",
    "        print('== start')\n",
    "        result = func(*args, **kwargs)\n",
    "        print('== end')\n",
    "        return result\n",
    "    return deco_func"
   ]
  },
  {
   "cell_type": "code",
   "execution_count": 17,
   "metadata": {
    "tags": []
   },
   "outputs": [
    {
     "output_type": "stream",
     "name": "stdout",
     "text": "Sleeping ..\nDone Sleeping\n"
    }
   ],
   "source": [
    "import time\n",
    "\n",
    "def sleep_for_a_while():\n",
    "    '''しばらく眠る'''\n",
    "    print(\"Sleeping ..\")\n",
    "    time.sleep(2) # sleep for a while; interrupt me!\n",
    "    print(\"Done Sleeping\")\n",
    "sleep_for_a_while()"
   ]
  },
  {
   "cell_type": "code",
   "execution_count": 16,
   "metadata": {
    "tags": []
   },
   "outputs": [
    {
     "output_type": "stream",
     "name": "stdout",
     "text": "== start\nSleeping ..\nDone Sleeping\n== end\n"
    }
   ],
   "source": [
    "@show_begin_end\n",
    "def sleep_for_a_while():\n",
    "    '''しばらく眠る'''\n",
    "    print(\"Sleeping ..\")\n",
    "    time.sleep(2) # sleep for a while\n",
    "    print(\"Done Sleeping\")\n",
    "\n",
    "sleep_for_a_while()"
   ]
  }
 ]
}